{
 "cells": [
  {
   "cell_type": "code",
   "execution_count": null,
   "id": "289811a6",
   "metadata": {},
   "outputs": [],
   "source": [
    "import pandas as pd\n",
    "import numpy as np\n",
    "from src import loader\n",
    "\n",
    "MAGDIR = '/scratch/fl1092/MAG/2021-12-06/' # directory that contains Microsoft Academic Graph dataset\n",
    "PROJDIR = '/scratch/fl1092/followup-editors/collab/'"
   ]
  },
  {
   "cell_type": "code",
   "execution_count": null,
   "id": "e0bbe6b3",
   "metadata": {},
   "outputs": [],
   "source": [
    "%%time\n",
    "recvDate, acptDate = loader.loadPaperRecvAcptTime()\n",
    "info = loader.loadPaperInfo()\n",
    "paperEditor = loader.loadPaperEditor()"
   ]
  },
  {
   "cell_type": "code",
   "execution_count": null,
   "id": "88247cce",
   "metadata": {},
   "outputs": [],
   "source": [
    "%%time\n",
    "paperDate = pd.read_csv(MAGDIR+'derived/PaperDate.csv',sep='\\t',parse_dates=['Date'])\n",
    "auAffYear = pd.read_csv(MAGDIR+'derived/AuthorAffiliationYear.csv', sep='\\t')\n",
    "paperYear = pd.read_csv(MAGDIR+'derived/PaperYear.csv', sep='\\t', dtype={'PaperId':int,'Year':int})\n",
    "authorCount = pd.read_csv(MAGDIR + 'derived/PaperAuthorCount.csv', sep='\\t')\n",
    "\n",
    "papAu = (\n",
    "    pd.read_csv(MAGDIR+\"mag/PaperAuthorAffiliations.txt\", sep=\"\\t\",\n",
    "                names = ['PaperId', 'AuthorId', 'AffiliationId', 'AuthorSequenceNumber',\n",
    "                         'OriginalAuthor', 'OriginalAffiliation'],\n",
    "                usecols = ['PaperId', 'AuthorId'],\n",
    "                dtype = {'PaperId':int, 'AuthorId':int, 'AffiliationId':float}, memory_map=True)\n",
    "    .drop_duplicates()\n",
    ")"
   ]
  },
  {
   "cell_type": "code",
   "execution_count": null,
   "id": "c55c0890",
   "metadata": {},
   "outputs": [],
   "source": [
    "papAuthorSubset = papAu[papAu.PaperId.isin(paperEditor.PaperId)]\n",
    "papAuthorSubset.to_csv(PROJDIR + 'PaperAuthorSubset.csv', sep='\\t', index=False)"
   ]
  },
  {
   "cell_type": "markdown",
   "id": "cd6ca628",
   "metadata": {},
   "source": [
    "# Editor-author collaboration"
   ]
  },
  {
   "cell_type": "markdown",
   "id": "9b65524d",
   "metadata": {},
   "source": [
    "## Compute all past collaborations of editors"
   ]
  },
  {
   "cell_type": "code",
   "execution_count": null,
   "id": "23d70429",
   "metadata": {},
   "outputs": [],
   "source": [
    "def diff_month(d1, d2):\n",
    "    # difference between two dates in number of months\n",
    "    return (d1.year - d2.year) * 12 + d1.month - d2.month"
   ]
  },
  {
   "cell_type": "code",
   "execution_count": null,
   "id": "fc4b4c82",
   "metadata": {},
   "outputs": [],
   "source": [
    "%%time\n",
    "### all papers written by the editor ###\n",
    "editorPapers = papAu[papAu.AuthorId.isin(paperEditor.EditorId)].rename(columns={'AuthorId':'EditorId'})\n",
    "\n",
    "### all co-authors on those papers ###\n",
    "colab = (\n",
    "    editorPapers.merge(papAu, on=['PaperId'])\n",
    "    .query('AuthorId != EditorId')\n",
    ")"
   ]
  },
  {
   "cell_type": "code",
   "execution_count": null,
   "id": "a887bbb7",
   "metadata": {},
   "outputs": [],
   "source": [
    "%%time\n",
    "### all authors of papers in our dataset ###\n",
    "paperAuthorEditor = paperEditor.merge(papAu, on='PaperId')"
   ]
  },
  {
   "cell_type": "code",
   "execution_count": null,
   "id": "b326a70f",
   "metadata": {},
   "outputs": [],
   "source": [
    "%%time\n",
    "# For each PaperId-Publisher-EditorId-AuthorId-Year,\n",
    "# find the list of collaborations (ColabPaperId)\n",
    "paperColab = (\n",
    "    paperAuthorEditor.merge(\n",
    "        colab.rename(columns={'PaperId':'ColabPaperId'}),\n",
    "        on=['EditorId','AuthorId']\n",
    "    )\n",
    ")"
   ]
  },
  {
   "cell_type": "code",
   "execution_count": null,
   "id": "2b132a4a",
   "metadata": {},
   "outputs": [],
   "source": [
    "%%time\n",
    "pastCollaboration = (\n",
    "    \n",
    "    paperColab\n",
    "    \n",
    "    .merge(authorCount, on='PaperId')\n",
    "    .merge(\n",
    "        authorCount.rename(columns={'PaperId':'ColabPaperId','AuthorCount':'ColabAuthorCount'}),\n",
    "        on='ColabPaperId'\n",
    "    )\n",
    "    \n",
    "    .merge(paperDate.rename(columns={'Date':'ColabDate','PaperId':'ColabPaperId'}), on='ColabPaperId')\n",
    "    .merge(recvDate.drop('Year',axis=1), on='PaperId')\n",
    "    .assign(MonthGap=lambda df: df.apply(lambda row: diff_month(row.RecvDate, row.ColabDate), axis=1))\n",
    "    \n",
    "    .assign(Later=lambda df: df.RecvDate >= df.ColabDate)\n",
    "    .query('Later == True')\n",
    "    .drop('Later', axis=1)\n",
    ")\n",
    "\n",
    "pastCollaboration.to_csv(PROJDIR + 'PastCollaboration.csv',index=False)"
   ]
  },
  {
   "cell_type": "markdown",
   "id": "8fc5382d",
   "metadata": {},
   "source": [
    "## Identify papers with recent editor-author collaboration"
   ]
  },
  {
   "cell_type": "code",
   "execution_count": null,
   "id": "041e9e70",
   "metadata": {},
   "outputs": [],
   "source": [
    "def COI48(pastColab, authorCountCap=None, threshold=48):\n",
    "    \n",
    "    # if edit a paper from a recent collaborator within past 48 months\n",
    "    \n",
    "    coi = pastColab.assign(COI = lambda df: df.MonthGap <= threshold)\n",
    "    \n",
    "    if authorCountCap is not None:\n",
    "        # if a past collaboration happens on a paper with more than 'authorCountCap' number of co-authors\n",
    "        # i.e., a community paper, that does not count as a past collaboration\n",
    "        # and if the focal paper has more `authorCountCap` authors, it also does not count as a COI\n",
    "        \n",
    "        coi=(\n",
    "            coi.assign(LessColabAuthor=lambda df: df.ColabAuthorCount <= authorCountCap)\n",
    "            .assign(LessAuthor=lambda df: df.AuthorCount <= authorCountCap)\n",
    "            .assign(COI = lambda df: df.apply(lambda row: row.COI and row.LessAuthor, axis=1))\n",
    "        )\n",
    "        \n",
    "    coi = (\n",
    "        coi.query('COI == True')\n",
    "        [['PaperId']].drop_duplicates()\n",
    "    )\n",
    "    \n",
    "    return coi"
   ]
  },
  {
   "cell_type": "code",
   "execution_count": null,
   "id": "f3d780d2",
   "metadata": {},
   "outputs": [],
   "source": [
    "coi24 = COI48(pastCollaboration, threshold=24)\n",
    "coi36 = COI48(pastCollaboration, threshold=36)\n",
    "coi48 = COI48(pastCollaboration, threshold=48)\n",
    "coi60 = COI48(pastCollaboration, threshold=60)\n",
    "\n",
    "coi24.to_csv('/scratch/fl1092/COIpaper/COI24MonthPapers.csv',sep='\\t',index=False)\n",
    "coi36.to_csv('/scratch/fl1092/COIpaper/COI36MonthPapers.csv',sep='\\t',index=False)\n",
    "coi48.to_csv('/scratch/fl1092/COIpaper/COI48MonthPapers.csv',sep='\\t',index=False)\n",
    "coi60.to_csv('/scratch/fl1092/COIpaper/COI60MonthPapers.csv',sep='\\t',index=False)"
   ]
  },
  {
   "cell_type": "markdown",
   "id": "6245b591",
   "metadata": {},
   "source": [
    "# Editor-author same affiliation"
   ]
  },
  {
   "cell_type": "code",
   "execution_count": null,
   "id": "ce2e4332",
   "metadata": {},
   "outputs": [],
   "source": [
    "sameAff = (\n",
    "    paperEditor.drop('publisher',axis=1)\n",
    "    \n",
    "    .merge(papAu, on='PaperId')\n",
    "    .merge(paperYear, on='PaperId')\n",
    "    .merge(auAffYear.rename(columns={'AuthorId':'EditorId','AffiliationId':'EditorAff'}), on=['EditorId','Year'])\n",
    "    .merge(auAffYear.rename(columns={'AffiliationId':'AuthorAff'}), on=['AuthorId','Year'])\n",
    "    \n",
    "    .query('AuthorAff == EditorAff')\n",
    ")\n",
    "\n",
    "sameAff.to_csv(PROJDIR + 'EditorAuthorSameAff.csv', index=False)"
   ]
  },
  {
   "cell_type": "markdown",
   "id": "6281dc62",
   "metadata": {},
   "source": [
    "# Random baseline for expertise analysis"
   ]
  },
  {
   "cell_type": "code",
   "execution_count": null,
   "id": "d491d607",
   "metadata": {},
   "outputs": [],
   "source": [
    "randomEditorBaseline = pd.DataFrame(\n",
    "    {\n",
    "        'PaperId': np.repeat(paperEditor[['PaperId']].drop_duplicates()['PaperId'].values, 5),\n",
    "         'EditorId': ( # randomly sample equal amount of editors\n",
    "             paperEditor[['EditorId']].drop_duplicates()\n",
    "             .sample(n=paperEditor[['PaperId']].drop_duplicates().shape[0]*5, random_state=10, replace=True)\n",
    "             ['EditorId'].values\n",
    "         )\n",
    "    }\n",
    ")\n",
    "\n",
    "randomEditorJournalBaseline = (\n",
    "    editorJournalYear.merge(paperJournalYear, on=['Journal','Year'])\n",
    "    \n",
    "    .groupby(['PaperId','Journal']).sample(5, replace=True)\n",
    ")\n",
    "\n",
    "randomEditorBaseline.to_csv(PROJDIR + 'expertise/RandomEditorBaseline.csv',index=False)\n",
    "randomEditorJournalBaseline.to_csv(PROJDIR + 'expertise/RandomEditorSameJournalBaseline.csv',index=False)"
   ]
  },
  {
   "cell_type": "markdown",
   "id": "2989f5e2",
   "metadata": {},
   "source": [
    "# Potential editors for expertise analysis"
   ]
  },
  {
   "cell_type": "markdown",
   "id": "b3f44339",
   "metadata": {},
   "source": [
    "## Potential (counterfactual) editors"
   ]
  },
  {
   "cell_type": "code",
   "execution_count": null,
   "id": "86501b1c",
   "metadata": {},
   "outputs": [],
   "source": [
    "potentialEditorPaper = (\n",
    "    pd.concat(\n",
    "        [editorJournalYear.merge(paperJournalYear, on=['Journal','Year']),\n",
    "         paperEditor.drop(['publisher'],axis=1)], ignore_index=True, sort=False\n",
    "    )\n",
    "    \n",
    "    .drop(['Year','Journal'], axis=1)\n",
    "    .drop_duplicates()\n",
    ")\n",
    "\n",
    "potentialEditorPaper.to_csv(PROJDIR + 'PaperPotentialEditors.csv', index=False)"
   ]
  },
  {
   "cell_type": "markdown",
   "id": "5b11570f",
   "metadata": {},
   "source": [
    "## Determine whether any potential editor has had recent collaboration with authors"
   ]
  },
  {
   "cell_type": "code",
   "execution_count": null,
   "id": "039ae9b1",
   "metadata": {},
   "outputs": [],
   "source": [
    "%%time\n",
    "editorJournalYear = (\n",
    "    paperEditor.drop('publisher',axis=1)\n",
    "    .merge(recvDate, on='PaperId')\n",
    "    .merge(info, on='PaperId')\n",
    "    .drop(['RecvDate','Publisher','PaperId'],axis=1)\n",
    "    .drop_duplicates()\n",
    ")\n",
    "\n",
    "paperJournalYear = (\n",
    "    info.merge(recvDate, on='PaperId')\n",
    "    .drop(['RecvDate','Publisher'],axis=1)\n",
    "    .drop_duplicates()\n",
    ")\n",
    "\n",
    "paperJournalYear.to_csv(PROJDIR + 'PaperJournalYear.csv',index=False)\n",
    "editorJournalYear.to_csv(PROJDIR + 'EditorJournalYear.csv',index=False)"
   ]
  },
  {
   "cell_type": "code",
   "execution_count": null,
   "id": "ce6622d2",
   "metadata": {},
   "outputs": [],
   "source": [
    "papAuthorSubset = papAu[papAu.PaperId.isin(paperEditor.PaperId)] # filter the need subset to reduce memory usage\n",
    "\n",
    "potentialEditorPaper = (\n",
    "    pd.concat(\n",
    "        [editorJournalYear.merge(paperJournalYear, on=['Journal','Year']), # potential\n",
    "         paperEditor.drop(['publisher'],axis=1)], # actual\n",
    "        ignore_index=True, sort=False\n",
    "    )\n",
    "    \n",
    "    .drop(['Year','Journal'], axis=1)\n",
    "    .drop_duplicates()\n",
    "    \n",
    "    .merge(papAuthorSubset, on='PaperId')\n",
    ")"
   ]
  },
  {
   "cell_type": "code",
   "execution_count": null,
   "id": "f2783e5f",
   "metadata": {},
   "outputs": [],
   "source": [
    "res = []\n",
    "\n",
    "for df in tqdm(np.array_split(paperAuthorEditor, 100)):\n",
    "    \n",
    "    paperColab = (\n",
    "        df.merge(\n",
    "            colab.rename(columns={'PaperId':'ColabPaperId'}),\n",
    "            on=['EditorId','AuthorId']\n",
    "        )\n",
    "    )\n",
    "    res.append(paperColab)\n",
    "\n",
    "paperColabCombined = pd.concat(res, ignore_index=True, sort=False)\n",
    "\n",
    "paperColabCombined.to_csv(PROJDIR+'EditorAuthorPastCollabPotential.csv',index=False)"
   ]
  },
  {
   "cell_type": "code",
   "execution_count": null,
   "id": "700b33ba",
   "metadata": {},
   "outputs": [],
   "source": [
    "%%time\n",
    "paperColabDates = (\n",
    "    paperColabCombined\n",
    "    .merge(paperDate.rename(columns={'PaperId':'ColabPaperId'}), on='ColabPaperId')\n",
    "    .merge(recvDate, on='PaperId')\n",
    ")\n",
    "\n",
    "def diff_month(d1, d2):\n",
    "    return (d1.year - d2.year) * 12 + d1.month - d2.month\n",
    "\n",
    "collabCOI = (\n",
    "    paperColabDates\n",
    "    \n",
    "    .assign(MonthGap=lambda df: df.apply(lambda row: diff_month(row.RecvDate, row.Date), axis=1))\n",
    "    .assign(Later=lambda df: df.RecvDate >= df.Date)\n",
    "    .query('Later == True')\n",
    "    \n",
    "    .assign(COI = lambda df: df.MonthGap <= 48)\n",
    "    .query('COI == True')\n",
    ")\n",
    "\n",
    "collabCOIPaperId = collabCOI[['PaperId','EditorId']].drop_duplicates()\n",
    "collabCOIPaperId.to_csv(PROJDIR + 'PotentialPaperEditorCollabCOI.csv',index=False)"
   ]
  },
  {
   "cell_type": "markdown",
   "id": "83641dd7",
   "metadata": {},
   "source": [
    "## Determine whether any potential editor shares same affiliation with authors"
   ]
  },
  {
   "cell_type": "code",
   "execution_count": null,
   "id": "605acf7f",
   "metadata": {},
   "outputs": [],
   "source": [
    "paperAuthorEditor = (\n",
    "    potentialEditorPaper\n",
    "    \n",
    "    .merge(paperYear, on='PaperId')\n",
    "    .merge(auAffYear.rename(columns={'AuthorId':'EditorId'}), on=['EditorId','Year'])\n",
    "    \n",
    "    .merge(\n",
    "        papAuthorSubset.merge(auAffYear, on=['AuthorId']) # the affiliation of authors in different years\n",
    "        , on=['PaperId','Year', 'AffiliationId'] # same affiliation in the same year\n",
    "    )\n",
    ")\n",
    "\n",
    "paperAuthorEditor[['PaperId','EditorId']].drop_duplicates().to_csv(PROJDIR + 'PotentialPaperEditorAffCOI.csv',index=False)"
   ]
  },
  {
   "cell_type": "markdown",
   "id": "885260dc",
   "metadata": {},
   "source": [
    "# Generate anonymized "
   ]
  },
  {
   "cell_type": "code",
   "execution_count": null,
   "id": "99bf3d1f",
   "metadata": {},
   "outputs": [],
   "source": [
    "PROJDIR = '/scratch/fl1092/COIpaper/'\n",
    "\n",
    "def overallCOIRate(collab, aff):\n",
    "    \n",
    "    overall = (\n",
    "        pd.merge(\n",
    "            collab.rename(columns={'COI':'CollabCOI'}),\n",
    "            aff.rename(columns={'COI':'AffCOI'}),\n",
    "            on=['PaperId','Journal','Publisher'])\n",
    "        .assign(COI = lambda df: df.apply(lambda row: row['AffCOI'] or row['CollabCOI'], axis=1))\n",
    "    )\n",
    "    \n",
    "    return overall"
   ]
  },
  {
   "cell_type": "code",
   "execution_count": null,
   "id": "906bcc9d",
   "metadata": {},
   "outputs": [],
   "source": [
    "%%time\n",
    "paperEditor = loader.loadPaperEditor()\n",
    "\n",
    "paperDelay = (\n",
    "    loader.loadPaperDelay(percentage=True)\n",
    "    .drop(['Journal','Publisher'], axis=1)\n",
    "    .assign(RelativeDelay = lambda df: df.AcptDelay - df.JAvg)\n",
    ")\n",
    "\n",
    "coiSameAff = pd.read_csv(PROJDIR + 'EditorAuthorSameAff.csv', usecols=['PaperId']).drop_duplicates()\n",
    "coiCollab = pd.read_csv(PROJDIR + 'COI48MonthPapers.csv',sep='\\t')\n",
    "\n",
    "paperCollab = info.merge(coiCollab.assign(COI=True), on='PaperId', how='left').fillna({'COI':False})\n",
    "paperSameAff = info.merge(coiSameAff.assign(COI=True), on='PaperId', how='left').fillna({'COI':False})\n",
    "overallCoi = overallCOIRate(paperCollab, paperSameAff)"
   ]
  },
  {
   "cell_type": "code",
   "execution_count": null,
   "id": "d42b7d5e",
   "metadata": {},
   "outputs": [],
   "source": [
    "paperPriorMaxImpact = (\n",
    "    pd.read_csv(PROJDIR + 'PaperAuthorPriorMaximumCitation.csv',usecols=['PaperId','Count'])\n",
    "    .rename(columns={'Count':'PriorImpact'})\n",
    ")\n",
    "\n",
    "authorCount = pd.read_csv(PROJDIR + 'PaperAuthorCount.csv')\n",
    "\n",
    "minPastAuthorCount = pd.read_csv('/scratch/fl1092/COIpaper/MinPastAuthorCount.csv',sep='\\t')"
   ]
  },
  {
   "cell_type": "code",
   "execution_count": null,
   "id": "111cfdc2",
   "metadata": {},
   "outputs": [],
   "source": [
    "ano = (\n",
    "    paperEditor\n",
    "    .merge(paperDelay, on='PaperId') # acceptance delay and relative acceptance delay\n",
    "    .merge(overallCoi, on='PaperId') # whether paper has COI (due to same affiliation or collaboration)\n",
    "    .merge(paperPriorMaxImpact, on='PaperId') # max prior impact of any author (up until the year before the paper is published)\n",
    "    .merge(authorCount, on='PaperId') # number of authors\n",
    "    .merge(minPastAuthorCount, on='PaperId', how='left') # the minimum team size of any prior co-authors\n",
    "    \n",
    "    .drop(['PaperId','EditorId','publisher','Journal','Publisher','AcptDelay','JAvg'], axis=1)\n",
    "    .sample(frac=1, replace=False, random_state=0)\n",
    ")"
   ]
  },
  {
   "cell_type": "code",
   "execution_count": null,
   "id": "6a1fa6a8",
   "metadata": {},
   "outputs": [],
   "source": [
    "ano.to_csv('./data/AnonymizedPapers.csv', index=False)"
   ]
  },
  {
   "cell_type": "code",
   "execution_count": null,
   "id": "b0c39af1",
   "metadata": {},
   "outputs": [],
   "source": []
  }
 ],
 "metadata": {
  "kernelspec": {
   "display_name": "Python 3 (ipykernel)",
   "language": "python",
   "name": "python3"
  },
  "language_info": {
   "codemirror_mode": {
    "name": "ipython",
    "version": 3
   },
   "file_extension": ".py",
   "mimetype": "text/x-python",
   "name": "python",
   "nbconvert_exporter": "python",
   "pygments_lexer": "ipython3",
   "version": "3.8.2"
  },
  "toc": {
   "base_numbering": 1,
   "nav_menu": {},
   "number_sections": true,
   "sideBar": true,
   "skip_h1_title": false,
   "title_cell": "Table of Contents",
   "title_sidebar": "Contents",
   "toc_cell": false,
   "toc_position": {
    "height": "calc(100% - 180px)",
    "left": "10px",
    "top": "150px",
    "width": "245.797px"
   },
   "toc_section_display": true,
   "toc_window_display": true
  }
 },
 "nbformat": 4,
 "nbformat_minor": 5
}
